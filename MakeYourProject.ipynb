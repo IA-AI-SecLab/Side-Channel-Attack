
본 코드는 자신의 프로젝트 파일을 손쉽게 생성할 수 있도록 새롭게 구성한 툴입니다.

CUSTOM_NAME에 자신이 원하는 프로젝트 파일명을 입력하세요.

입력하지 않으면 타인의 프로젝트를 덮어써서 삭제시킬 수 있으므로, 반드시 수정 후 Run 하세요!

In [3]:
PLATFORM = 'CW308_STM32F3'
CUSTOM_NAME = 'AES_jsy' # 이 부분을 반드시 자신의 이름으로 수정하세요! 다른 사람의 프로젝트가 손실됩니다.

if PLATFORM == 'CW308_XMEGA' or PLATFORM == 'CWLITEXMEGA':
    HAL = 'xmega'
elif PLATFORM == 'CW308_STM32F4':
    HAL = 'stm32f4'
elif PLATFORM == 'CW308_STM32F3':
    HAL = 'stm32f3'
이제, 당신의 폴더로 프로젝트에 필요한 데이터를 복사합니다.

In [4]:
%%bash -s "$CUSTOM_NAME" "$HAL"
rm -rf $1
mkdir $1
mkdir $1/hal
mkdir $1/crypto
cp /home/vagrant/work/projects/chipwhisperer/hardware/victims/firmware/Makefile.inc $1/.
cp /home/vagrant/work/projects/chipwhisperer/hardware/victims/firmware/hal/hal.h $1/hal/.
cp /home/vagrant/work/projects/chipwhisperer/hardware/victims/firmware/hal/Makefile.hal $1/hal/.
cp /home/vagrant/work/projects/chipwhisperer/hardware/victims/firmware/hal/PLATFORM_INCLUDE.mk $1/hal/.
cp /home/vagrant/work/projects/chipwhisperer/hardware/victims/firmware/crypto/Makefile.crypto $1/crypto/Makefile.crypto
cp -r /home/vagrant/work/projects/chipwhisperer/hardware/victims/firmware/hal/$2 $1/hal/.
cp -r /home/vagrant/work/projects/chipwhisperer/hardware/victims/firmware/simpleserial $1/.
cp -r /home/vagrant/work/projects/chipwhisperer/hardware/victims/firmware/simpleserial-base $1/Base
cp -r /home/vagrant/work/projects/chipwhisperer/KUSCA_Element/Collect_Trace.ipynb $1/.
ls -al $1 $1/Base
AES_jsy:
total 56
drwxr-xr-x  6 vagrant vagrant  4096 May  7 12:37 .
drwxr-xr-x 24 vagrant vagrant  4096 May  7 12:37 ..
drwxr-xr-x  2 vagrant vagrant  4096 May  7 12:37 Base
-rw-r--r--  1 vagrant vagrant 14482 May  7 12:37 Collect_Trace.ipynb
drwxr-xr-x  2 vagrant vagrant  4096 May  7 12:37 crypto
drwxr-xr-x  3 vagrant vagrant  4096 May  7 12:37 hal
-rw-r--r--  1 vagrant vagrant 16019 May  7 12:37 Makefile.inc
drwxr-xr-x  2 vagrant vagrant  4096 May  7 12:37 simpleserial

AES_jsy/Base:
total 16
drwxr-xr-x 2 vagrant vagrant 4096 May  7 12:37 .
drwxr-xr-x 6 vagrant vagrant 4096 May  7 12:37 ..
-rw-r--r-- 1 vagrant vagrant 1576 May  7 12:37 makefile
-rw-r--r-- 1 vagrant vagrant 1970 May  7 12:37 simpleserial-base.c
준비가 끝났습니다. 자신의 폴더에서 프로젝트를 실행해보세요.
